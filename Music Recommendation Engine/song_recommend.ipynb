{
 "cells": [
  {
   "cell_type": "code",
   "execution_count": 1,
   "metadata": {},
   "outputs": [
    {
     "name": "stderr",
     "output_type": "stream",
     "text": [
      "C:\\Users\\Saurav\\Anaconda3\\lib\\importlib\\_bootstrap.py:222: RuntimeWarning: numpy.dtype size changed, may indicate binary incompatibility. Expected 96, got 88\n",
      "  return f(*args, **kwds)\n",
      "C:\\Users\\Saurav\\Anaconda3\\lib\\importlib\\_bootstrap.py:222: RuntimeWarning: numpy.dtype size changed, may indicate binary incompatibility. Expected 96, got 88\n",
      "  return f(*args, **kwds)\n"
     ]
    }
   ],
   "source": [
    "import pandas as pd\n",
    "import numpy as np\n",
    "from scipy.sparse import csr_matrix"
   ]
  },
  {
   "cell_type": "code",
   "execution_count": 2,
   "metadata": {},
   "outputs": [],
   "source": [
    "pd.set_option('display.float_format', lambda x: '%.3f' % x)\n"
   ]
  },
  {
   "cell_type": "code",
   "execution_count": 3,
   "metadata": {},
   "outputs": [
    {
     "name": "stdout",
     "output_type": "stream",
     "text": [
      "python\n",
      "xyz\n",
      "6\n",
      "7.0\n",
      "13.0\n",
      "This isn't flying, this is falling with style!\n"
     ]
    }
   ],
   "source": [
    "user_data = pd.read_table('/users/Saurav/documents/lastfm-dataset-360K/usersha1-artmbid-artname-plays.tsv',\n",
    "                          header = None, nrows = 2e7,\n",
    "                          names = ['users', 'musicbrainz-artist-id', 'artist-name', 'plays'],\n",
    "                          usecols = ['users', 'artist-name', 'plays'])"
   ]
  },
  {
   "cell_type": "code",
   "execution_count": 4,
   "metadata": {},
   "outputs": [],
   "source": [
    "user_profiles = pd.read_table('/users/Saurav/documents/lastfm-dataset-360K/usersha1-profile.tsv',\n",
    "                          header = None,\n",
    "                          names = ['users', 'gender', 'age', 'country', 'signup'],\n",
    "                          usecols = ['users', 'country'])\n"
   ]
  },
  {
   "cell_type": "code",
   "execution_count": 5,
   "metadata": {},
   "outputs": [
    {
     "data": {
      "text/html": [
       "<div>\n",
       "<style scoped>\n",
       "    .dataframe tbody tr th:only-of-type {\n",
       "        vertical-align: middle;\n",
       "    }\n",
       "\n",
       "    .dataframe tbody tr th {\n",
       "        vertical-align: top;\n",
       "    }\n",
       "\n",
       "    .dataframe thead th {\n",
       "        text-align: right;\n",
       "    }\n",
       "</style>\n",
       "<table border=\"1\" class=\"dataframe\">\n",
       "  <thead>\n",
       "    <tr style=\"text-align: right;\">\n",
       "      <th></th>\n",
       "      <th>users</th>\n",
       "      <th>artist-name</th>\n",
       "      <th>plays</th>\n",
       "    </tr>\n",
       "  </thead>\n",
       "  <tbody>\n",
       "    <tr>\n",
       "      <th>0</th>\n",
       "      <td>00000c289a1829a808ac09c00daf10bc3c4e223b</td>\n",
       "      <td>betty blowtorch</td>\n",
       "      <td>2137</td>\n",
       "    </tr>\n",
       "    <tr>\n",
       "      <th>1</th>\n",
       "      <td>00000c289a1829a808ac09c00daf10bc3c4e223b</td>\n",
       "      <td>die Ärzte</td>\n",
       "      <td>1099</td>\n",
       "    </tr>\n",
       "    <tr>\n",
       "      <th>2</th>\n",
       "      <td>00000c289a1829a808ac09c00daf10bc3c4e223b</td>\n",
       "      <td>melissa etheridge</td>\n",
       "      <td>897</td>\n",
       "    </tr>\n",
       "    <tr>\n",
       "      <th>3</th>\n",
       "      <td>00000c289a1829a808ac09c00daf10bc3c4e223b</td>\n",
       "      <td>elvenking</td>\n",
       "      <td>717</td>\n",
       "    </tr>\n",
       "    <tr>\n",
       "      <th>4</th>\n",
       "      <td>00000c289a1829a808ac09c00daf10bc3c4e223b</td>\n",
       "      <td>juliette &amp; the licks</td>\n",
       "      <td>706</td>\n",
       "    </tr>\n",
       "  </tbody>\n",
       "</table>\n",
       "</div>"
      ],
      "text/plain": [
       "                                      users           artist-name  plays\n",
       "0  00000c289a1829a808ac09c00daf10bc3c4e223b       betty blowtorch   2137\n",
       "1  00000c289a1829a808ac09c00daf10bc3c4e223b             die Ärzte   1099\n",
       "2  00000c289a1829a808ac09c00daf10bc3c4e223b     melissa etheridge    897\n",
       "3  00000c289a1829a808ac09c00daf10bc3c4e223b             elvenking    717\n",
       "4  00000c289a1829a808ac09c00daf10bc3c4e223b  juliette & the licks    706"
      ]
     },
     "execution_count": 5,
     "metadata": {},
     "output_type": "execute_result"
    }
   ],
   "source": [
    "user_data.head()"
   ]
  },
  {
   "cell_type": "code",
   "execution_count": 6,
   "metadata": {},
   "outputs": [
    {
     "data": {
      "text/html": [
       "<div>\n",
       "<style scoped>\n",
       "    .dataframe tbody tr th:only-of-type {\n",
       "        vertical-align: middle;\n",
       "    }\n",
       "\n",
       "    .dataframe tbody tr th {\n",
       "        vertical-align: top;\n",
       "    }\n",
       "\n",
       "    .dataframe thead th {\n",
       "        text-align: right;\n",
       "    }\n",
       "</style>\n",
       "<table border=\"1\" class=\"dataframe\">\n",
       "  <thead>\n",
       "    <tr style=\"text-align: right;\">\n",
       "      <th></th>\n",
       "      <th>users</th>\n",
       "      <th>country</th>\n",
       "    </tr>\n",
       "  </thead>\n",
       "  <tbody>\n",
       "    <tr>\n",
       "      <th>0</th>\n",
       "      <td>00000c289a1829a808ac09c00daf10bc3c4e223b</td>\n",
       "      <td>Germany</td>\n",
       "    </tr>\n",
       "    <tr>\n",
       "      <th>1</th>\n",
       "      <td>00001411dc427966b17297bf4d69e7e193135d89</td>\n",
       "      <td>Canada</td>\n",
       "    </tr>\n",
       "    <tr>\n",
       "      <th>2</th>\n",
       "      <td>00004d2ac9316e22dc007ab2243d6fcb239e707d</td>\n",
       "      <td>Germany</td>\n",
       "    </tr>\n",
       "    <tr>\n",
       "      <th>3</th>\n",
       "      <td>000063d3fe1cf2ba248b9e3c3f0334845a27a6bf</td>\n",
       "      <td>Mexico</td>\n",
       "    </tr>\n",
       "    <tr>\n",
       "      <th>4</th>\n",
       "      <td>00007a47085b9aab8af55f52ec8846ac479ac4fe</td>\n",
       "      <td>United States</td>\n",
       "    </tr>\n",
       "  </tbody>\n",
       "</table>\n",
       "</div>"
      ],
      "text/plain": [
       "                                      users        country\n",
       "0  00000c289a1829a808ac09c00daf10bc3c4e223b        Germany\n",
       "1  00001411dc427966b17297bf4d69e7e193135d89         Canada\n",
       "2  00004d2ac9316e22dc007ab2243d6fcb239e707d        Germany\n",
       "3  000063d3fe1cf2ba248b9e3c3f0334845a27a6bf         Mexico\n",
       "4  00007a47085b9aab8af55f52ec8846ac479ac4fe  United States"
      ]
     },
     "execution_count": 6,
     "metadata": {},
     "output_type": "execute_result"
    }
   ],
   "source": [
    "user_profiles.head()"
   ]
  },
  {
   "cell_type": "code",
   "execution_count": 7,
   "metadata": {},
   "outputs": [],
   "source": [
    "if user_data['artist-name'].isnull().sum() > 0:\n",
    "    user_data = user_data.dropna(axis = 0, subset = ['artist-name'])"
   ]
  },
  {
   "cell_type": "code",
   "execution_count": 8,
   "metadata": {},
   "outputs": [],
   "source": [
    "artist_plays = (user_data.\n",
    "     groupby(by = ['artist-name'])['plays'].\n",
    "     sum().\n",
    "     reset_index().\n",
    "     rename(columns = {'plays': 'total_artist_plays'})\n",
    "     [['artist-name', 'total_artist_plays']]\n",
    "    )"
   ]
  },
  {
   "cell_type": "code",
   "execution_count": 9,
   "metadata": {},
   "outputs": [
    {
     "data": {
      "text/html": [
       "<div>\n",
       "<style scoped>\n",
       "    .dataframe tbody tr th:only-of-type {\n",
       "        vertical-align: middle;\n",
       "    }\n",
       "\n",
       "    .dataframe tbody tr th {\n",
       "        vertical-align: top;\n",
       "    }\n",
       "\n",
       "    .dataframe thead th {\n",
       "        text-align: right;\n",
       "    }\n",
       "</style>\n",
       "<table border=\"1\" class=\"dataframe\">\n",
       "  <thead>\n",
       "    <tr style=\"text-align: right;\">\n",
       "      <th></th>\n",
       "      <th>artist-name</th>\n",
       "      <th>total_artist_plays</th>\n",
       "    </tr>\n",
       "  </thead>\n",
       "  <tbody>\n",
       "    <tr>\n",
       "      <th>0</th>\n",
       "      <td>04)]</td>\n",
       "      <td>6</td>\n",
       "    </tr>\n",
       "    <tr>\n",
       "      <th>1</th>\n",
       "      <td>2</td>\n",
       "      <td>1606</td>\n",
       "    </tr>\n",
       "    <tr>\n",
       "      <th>2</th>\n",
       "      <td>58725ab=&gt;</td>\n",
       "      <td>23</td>\n",
       "    </tr>\n",
       "    <tr>\n",
       "      <th>3</th>\n",
       "      <td>80lİ yillarin tÜrkÇe sÖzlÜ aŞk Şarkilari</td>\n",
       "      <td>70</td>\n",
       "    </tr>\n",
       "    <tr>\n",
       "      <th>4</th>\n",
       "      <td>amy winehouse</td>\n",
       "      <td>23</td>\n",
       "    </tr>\n",
       "  </tbody>\n",
       "</table>\n",
       "</div>"
      ],
      "text/plain": [
       "                                 artist-name  total_artist_plays\n",
       "0                                       04)]                   6\n",
       "1                                         2                 1606\n",
       "2                                  58725ab=>                  23\n",
       "3   80lİ yillarin tÜrkÇe sÖzlÜ aŞk Şarkilari                  70\n",
       "4                              amy winehouse                  23"
      ]
     },
     "execution_count": 9,
     "metadata": {},
     "output_type": "execute_result"
    }
   ],
   "source": [
    "artist_plays.head()"
   ]
  },
  {
   "cell_type": "code",
   "execution_count": 10,
   "metadata": {},
   "outputs": [],
   "source": [
    "user_data_with_artist_plays = user_data.merge(artist_plays, left_on = 'artist-name', right_on = 'artist-name', how = 'left')"
   ]
  },
  {
   "cell_type": "code",
   "execution_count": 11,
   "metadata": {},
   "outputs": [],
   "source": [
    "user_data_with_artist_plays.head()\n",
    "del user_data"
   ]
  },
  {
   "cell_type": "code",
   "execution_count": 12,
   "metadata": {},
   "outputs": [
    {
     "data": {
      "text/plain": [
       "count     292363.000\n",
       "mean       12907.022\n",
       "std       185981.631\n",
       "min            1.000\n",
       "25%           53.000\n",
       "50%          208.000\n",
       "75%         1048.000\n",
       "max     30466827.000\n",
       "Name: total_artist_plays, dtype: float64"
      ]
     },
     "execution_count": 12,
     "metadata": {},
     "output_type": "execute_result"
    }
   ],
   "source": [
    "artist_plays['total_artist_plays'].describe()"
   ]
  },
  {
   "cell_type": "code",
   "execution_count": 13,
   "metadata": {},
   "outputs": [
    {
     "data": {
      "text/plain": [
       "0.900     6137.800\n",
       "0.910     7409.420\n",
       "0.920     9102.040\n",
       "0.930    11474.660\n",
       "0.940    14898.000\n",
       "0.950    19964.500\n",
       "0.960    28420.120\n",
       "0.970    43541.420\n",
       "0.980    79403.560\n",
       "0.990   198483.660\n",
       "Name: total_artist_plays, dtype: float64"
      ]
     },
     "execution_count": 13,
     "metadata": {},
     "output_type": "execute_result"
    }
   ],
   "source": [
    "artist_plays['total_artist_plays'].quantile(np.arange(.9, 1, .01))"
   ]
  },
  {
   "cell_type": "code",
   "execution_count": 14,
   "metadata": {},
   "outputs": [],
   "source": [
    "popularity_threshold = 40000\n",
    "user_data_popular_artists = user_data_with_artist_plays.query('total_artist_plays >= @popularity_threshold')"
   ]
  },
  {
   "cell_type": "code",
   "execution_count": 15,
   "metadata": {},
   "outputs": [
    {
     "data": {
      "text/html": [
       "<div>\n",
       "<style scoped>\n",
       "    .dataframe tbody tr th:only-of-type {\n",
       "        vertical-align: middle;\n",
       "    }\n",
       "\n",
       "    .dataframe tbody tr th {\n",
       "        vertical-align: top;\n",
       "    }\n",
       "\n",
       "    .dataframe thead th {\n",
       "        text-align: right;\n",
       "    }\n",
       "</style>\n",
       "<table border=\"1\" class=\"dataframe\">\n",
       "  <thead>\n",
       "    <tr style=\"text-align: right;\">\n",
       "      <th></th>\n",
       "      <th>users</th>\n",
       "      <th>artist-name</th>\n",
       "      <th>plays</th>\n",
       "      <th>total_artist_plays</th>\n",
       "    </tr>\n",
       "  </thead>\n",
       "  <tbody>\n",
       "    <tr>\n",
       "      <th>1</th>\n",
       "      <td>00000c289a1829a808ac09c00daf10bc3c4e223b</td>\n",
       "      <td>die Ärzte</td>\n",
       "      <td>1099</td>\n",
       "      <td>3704875</td>\n",
       "    </tr>\n",
       "    <tr>\n",
       "      <th>2</th>\n",
       "      <td>00000c289a1829a808ac09c00daf10bc3c4e223b</td>\n",
       "      <td>melissa etheridge</td>\n",
       "      <td>897</td>\n",
       "      <td>180391</td>\n",
       "    </tr>\n",
       "    <tr>\n",
       "      <th>3</th>\n",
       "      <td>00000c289a1829a808ac09c00daf10bc3c4e223b</td>\n",
       "      <td>elvenking</td>\n",
       "      <td>717</td>\n",
       "      <td>410725</td>\n",
       "    </tr>\n",
       "    <tr>\n",
       "      <th>4</th>\n",
       "      <td>00000c289a1829a808ac09c00daf10bc3c4e223b</td>\n",
       "      <td>juliette &amp; the licks</td>\n",
       "      <td>706</td>\n",
       "      <td>90498</td>\n",
       "    </tr>\n",
       "    <tr>\n",
       "      <th>5</th>\n",
       "      <td>00000c289a1829a808ac09c00daf10bc3c4e223b</td>\n",
       "      <td>red hot chili peppers</td>\n",
       "      <td>691</td>\n",
       "      <td>13547741</td>\n",
       "    </tr>\n",
       "  </tbody>\n",
       "</table>\n",
       "</div>"
      ],
      "text/plain": [
       "                                      users            artist-name  plays  \\\n",
       "1  00000c289a1829a808ac09c00daf10bc3c4e223b              die Ärzte   1099   \n",
       "2  00000c289a1829a808ac09c00daf10bc3c4e223b      melissa etheridge    897   \n",
       "3  00000c289a1829a808ac09c00daf10bc3c4e223b              elvenking    717   \n",
       "4  00000c289a1829a808ac09c00daf10bc3c4e223b   juliette & the licks    706   \n",
       "5  00000c289a1829a808ac09c00daf10bc3c4e223b  red hot chili peppers    691   \n",
       "\n",
       "   total_artist_plays  \n",
       "1             3704875  \n",
       "2              180391  \n",
       "3              410725  \n",
       "4               90498  \n",
       "5            13547741  "
      ]
     },
     "execution_count": 15,
     "metadata": {},
     "output_type": "execute_result"
    }
   ],
   "source": [
    "user_data_popular_artists.head()"
   ]
  },
  {
   "cell_type": "code",
   "execution_count": 16,
   "metadata": {},
   "outputs": [],
   "source": [
    "combined = user_data_popular_artists.merge(user_profiles, left_on = 'users', right_on = 'users', how = 'left')\n",
    "usa_data = combined.query('country == \\'United States\\'')\n",
    "#usa_data = combined.query('country == \\'United States\\'|country == \\'United Kingdom\\'country == \\'India\\'')"
   ]
  },
  {
   "cell_type": "code",
   "execution_count": 17,
   "metadata": {},
   "outputs": [],
   "source": [
    "usa_data.head()\n",
    "del combined\n",
    "del user_data_popular_artists\n",
    "del user_data_with_artist_plays\n",
    "del artist_plays\n",
    "del user_profiles"
   ]
  },
  {
   "cell_type": "code",
   "execution_count": 18,
   "metadata": {},
   "outputs": [
    {
     "name": "stdout",
     "output_type": "stream",
     "text": [
      "Initial dataframe shape (2788019, 5)\n",
      "New dataframe shape (2788013, 5)\n",
      "Removed 6 rows\n"
     ]
    }
   ],
   "source": [
    "if not usa_data[usa_data.duplicated(['users', 'artist-name'])].empty:\n",
    "    initial_rows = usa_data.shape[0]\n",
    "\n",
    "    print('Initial dataframe shape {0}'.format(usa_data.shape))\n",
    "    usa_data = usa_data.drop_duplicates(['users', 'artist-name'])\n",
    "    current_rows = usa_data.shape[0]\n",
    "    print('New dataframe shape {0}'.format(usa_data.shape))\n",
    "    print('Removed {0} rows'.format(initial_rows - current_rows))\n"
   ]
  },
  {
   "cell_type": "code",
   "execution_count": 19,
   "metadata": {},
   "outputs": [],
   "source": [
    "wide_artist_data = usa_data.pivot(index = 'artist-name', columns = 'users', values = 'plays').fillna(0)\n",
    "#wide_artist_data_sparse = csr_matrix(wide_artist_data.values)"
   ]
  },
  {
   "cell_type": "code",
   "execution_count": 20,
   "metadata": {},
   "outputs": [],
   "source": [
    "wide_artist_data_zero_one = wide_artist_data.apply(np.sign)\n",
    "del wide_artist_data"
   ]
  },
  {
   "cell_type": "code",
   "execution_count": 21,
   "metadata": {},
   "outputs": [],
   "source": [
    "#wide_artist_data_zero_one = wide_artist_data.apply(np.sign)\n",
    "wide_artist_data_zero_one_sparse = csr_matrix(wide_artist_data_zero_one.values)"
   ]
  },
  {
   "cell_type": "code",
   "execution_count": 22,
   "metadata": {},
   "outputs": [],
   "source": [
    "del wide_artist_data_zero_one_sparse"
   ]
  },
  {
   "cell_type": "code",
   "execution_count": 1,
   "metadata": {},
   "outputs": [],
   "source": [
    "'''from scipy import sparse\n",
    "'''\n",
    "import pickle\n",
    "\n",
    "fn = '/users/Saurav/documents/lastfm-dataset-360K/one.pkl'\n",
    "\n",
    "#pickle.dump(wide_artist_data_zero_one, open(fn, 'wb'),protocol=4)\n",
    "#sparse.save_npz('/users/Saurav/documents/lastfm-dataset-360K/lastfm_sparse_artist_matrix_binary.npz', wide_artist_data_zero_one_sparse)"
   ]
  },
  {
   "cell_type": "code",
   "execution_count": 2,
   "metadata": {},
   "outputs": [
    {
     "name": "stderr",
     "output_type": "stream",
     "text": [
      "C:\\Users\\Saurav\\Anaconda3\\lib\\importlib\\_bootstrap.py:222: RuntimeWarning: numpy.dtype size changed, may indicate binary incompatibility. Expected 96, got 88\n",
      "  return f(*args, **kwds)\n",
      "C:\\Users\\Saurav\\Anaconda3\\lib\\importlib\\_bootstrap.py:222: RuntimeWarning: numpy.dtype size changed, may indicate binary incompatibility. Expected 96, got 88\n",
      "  return f(*args, **kwds)\n"
     ]
    }
   ],
   "source": [
    "from sklearn.neighbors import NearestNeighbors\n",
    "import pickle\n",
    "one_model=pickle.load(open(fn,'rb'))"
   ]
  },
  {
   "cell_type": "code",
   "execution_count": 3,
   "metadata": {},
   "outputs": [],
   "source": [
    "#model_nn_binary = NearestNeighbors(metric='cosine', algorithm='brute')\n",
    "#model_nn_binary.fit(wide_artist_data_zero_one_sparse)\n",
    "#model_nn_binary.fit('/users/Saurav/documents/lastfm-dataset-360K/lastfm_sparse_artist_matrix_binary.npz')\n",
    "filename = '/users/Saurav/documents/lastfm-dataset-360K/finalized_model.pkl'\n",
    "#pickle.dump(model_nn_binary, open(filename, 'wb'))\n",
    "loaded_model = pickle.load(open(filename, 'rb'))"
   ]
  },
  {
   "cell_type": "code",
   "execution_count": 4,
   "metadata": {},
   "outputs": [
    {
     "data": {
      "text/plain": [
       "\"\\n#DON'T USE THIS\\nmodel_nn_binary = NearestNeighbors(metric='cosine', algorithm='brute')\\nmodel_nn_binary.fit('/users/Saurav/documents/lastfm-dataset-360K/lastfm_sparse_artist_matrix_binary.npz')\\n\""
      ]
     },
     "execution_count": 4,
     "metadata": {},
     "output_type": "execute_result"
    }
   ],
   "source": [
    "'''\n",
    "#DON'T USE THIS\n",
    "model_nn_binary = NearestNeighbors(metric='cosine', algorithm='brute')\n",
    "model_nn_binary.fit('/users/Saurav/documents/lastfm-dataset-360K/lastfm_sparse_artist_matrix_binary.npz')\n",
    "'''"
   ]
  },
  {
   "cell_type": "code",
   "execution_count": 5,
   "metadata": {},
   "outputs": [
    {
     "data": {
      "text/plain": [
       "\"\\ndistances, indices = model_nn_binary.kneighbors(wide_artist_data_zero_one.iloc[query_index, :].values.reshape(1, -1), n_neighbors = 6)\\n\\nfor i in range(0, len(distances.flatten())):\\n    if i == 0:\\n        print('Recommendations with binary play data for {0}:\\n'.format(wide_artist_data_zero_one.index[query_index]))\\n    else:\\n        print('{0}: {1}, with distance of {2}:'.format(i, wide_artist_data_zero_one.index[indices.flatten()[i]], distances.flatten()[i]))\\n\""
      ]
     },
     "execution_count": 5,
     "metadata": {},
     "output_type": "execute_result"
    }
   ],
   "source": [
    "'''\n",
    "distances, indices = model_nn_binary.kneighbors(wide_artist_data_zero_one.iloc[query_index, :].values.reshape(1, -1), n_neighbors = 6)\n",
    "\n",
    "for i in range(0, len(distances.flatten())):\n",
    "    if i == 0:\n",
    "        print('Recommendations with binary play data for {0}:\\n'.format(wide_artist_data_zero_one.index[query_index]))\n",
    "    else:\n",
    "        print('{0}: {1}, with distance of {2}:'.format(i, wide_artist_data_zero_one.index[indices.flatten()[i]], distances.flatten()[i]))\n",
    "'''"
   ]
  },
  {
   "cell_type": "code",
   "execution_count": 6,
   "metadata": {},
   "outputs": [],
   "source": [
    "from fuzzywuzzy import fuzz\n",
    "\n",
    "def print_artist_recommendations(query_artist, artist_plays_matrix, knn_model, k):\n",
    "    \"\"\"\n",
    "    Inputs:\n",
    "    query_artist: query artist name\n",
    "    artist_plays_matrix: artist play count dataframe (not the sparse one, the pandas dataframe)\n",
    "    knn_model: our previously fitted sklearn knn model\n",
    "    k: the number of nearest neighbors.\n",
    "    \n",
    "    Prints: Artist recommendations for the query artist\n",
    "    Returns: None\n",
    "    \"\"\"\n",
    "    query_index = None\n",
    "    ratio_tuples = []\n",
    "    \n",
    "    for i in artist_plays_matrix.index:\n",
    "        ratio = fuzz.ratio(i.lower(), query_artist.lower())\n",
    "        if ratio >= 75:\n",
    "            current_query_index = artist_plays_matrix.index.tolist().index(i)\n",
    "            ratio_tuples.append((i, ratio, current_query_index))\n",
    "    \n",
    "    print('Possible matches: {0}\\n'.format([(x[0], x[1]) for x in ratio_tuples]))\n",
    "    \n",
    "    try:\n",
    "        query_index = max(ratio_tuples, key = lambda x: x[1])[2] # get the index of the best artist match in the data\n",
    "    except:\n",
    "        print('Your artist didn\\'t match any artists in the data. Try again')\n",
    "        return None\n",
    "    #print(artist_plays_matrix.iloc[query_index, :].values.reshape(1, -1))\n",
    "    #print(k+1)\n",
    "    distances, indices = knn_model.kneighbors(artist_plays_matrix.iloc[query_index, :].values.reshape(1, -1), n_neighbors = k + 1)\n",
    "    \n",
    "    for i in range(0, len(distances.flatten())):\n",
    "        if i == 0:\n",
    "            print('Recommendations for {0}:\\n'.format(artist_plays_matrix.index[query_index]))\n",
    "        else:\n",
    "            print('{0}: {1}, with distance of {2}:'.format(i, artist_plays_matrix.index[indices.flatten()[i]], distances.flatten()[i]))\n",
    "\n",
    "    return None"
   ]
  },
  {
   "cell_type": "code",
   "execution_count": 8,
   "metadata": {},
   "outputs": [
    {
     "name": "stdout",
     "output_type": "stream",
     "text": [
      "Possible matches: [('disturbed', 100)]\n",
      "\n",
      "Recommendations for disturbed:\n",
      "\n",
      "1: godsmack, with distance of 0.6492414978699145:\n",
      "2: koЯn, with distance of 0.6599469766291561:\n",
      "3: breaking benjamin, with distance of 0.6779740352004124:\n",
      "4: slipknot, with distance of 0.6833986991923874:\n",
      "5: linkin park, with distance of 0.6955731054139238:\n",
      "6: system of a down, with distance of 0.6983363988585012:\n",
      "7: three days grace, with distance of 0.703818585788144:\n",
      "8: seether, with distance of 0.7132592597903307:\n",
      "9: mudvayne, with distance of 0.7220875035627858:\n",
      "10: papa roach, with distance of 0.7273468590413305:\n"
     ]
    }
   ],
   "source": [
    "#print_artist_recommendations('Eminem', wide_artist_data_zero_one, model_nn_binary, k = 10)\n",
    "#print_artist_recommendations('Foo fighters', wide_artist_data_zero_one, loaded_model, k = 10)\n",
    "print_artist_recommendations(\"disturbed\", one_model, loaded_model, k = 10)"
   ]
  },
  {
   "cell_type": "code",
   "execution_count": null,
   "metadata": {},
   "outputs": [],
   "source": []
  }
 ],
 "metadata": {
  "kernelspec": {
   "display_name": "Python 3",
   "language": "python",
   "name": "python3"
  },
  "language_info": {
   "codemirror_mode": {
    "name": "ipython",
    "version": 3
   },
   "file_extension": ".py",
   "mimetype": "text/x-python",
   "name": "python",
   "nbconvert_exporter": "python",
   "pygments_lexer": "ipython3",
   "version": "3.5.5"
  },
  "widgets": {
   "state": {},
   "version": "1.1.2"
  }
 },
 "nbformat": 4,
 "nbformat_minor": 2
}
